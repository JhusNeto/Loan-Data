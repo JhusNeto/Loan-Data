{
  "nbformat": 4,
  "nbformat_minor": 0,
  "metadata": {
    "colab": {
      "name": "Loan-Data.ipynb",
      "provenance": [],
      "authorship_tag": "ABX9TyNPkqYCj44nstY89MFgOPta",
      "include_colab_link": true
    },
    "kernelspec": {
      "name": "python3",
      "display_name": "Python 3"
    },
    "language_info": {
      "name": "python"
    }
  },
  "cells": [
    {
      "cell_type": "markdown",
      "metadata": {
        "id": "view-in-github",
        "colab_type": "text"
      },
      "source": [
        "<a href=\"https://colab.research.google.com/github/JhusNeto/Loan-Data/blob/main/Loan_Data.ipynb\" target=\"_parent\"><img src=\"https://colab.research.google.com/assets/colab-badge.svg\" alt=\"Open In Colab\"/></a>"
      ]
    },
    {
      "cell_type": "code",
      "metadata": {
        "id": "6q5yAOLRssIO"
      },
      "source": [
        "import pandas as pd\n",
        "from sklearn.linear_model import LogisticRegression\n",
        "from sklearn.model_selection import train_test_split\n",
        "from sklearn.preprocessing import LabelEncoder\n",
        "from sklearn.metrics import accuracy_score"
      ],
      "execution_count": null,
      "outputs": []
    },
    {
      "cell_type": "code",
      "metadata": {
        "colab": {
          "base_uri": "https://localhost:8080/"
        },
        "id": "eoBFI_odthdB",
        "outputId": "20c294b7-85a5-423b-e5d0-6ed4ecd809c3"
      },
      "source": [
        "data = pd.read_csv('train_ctrUa4K.csv')\n",
        "print(data.head())"
      ],
      "execution_count": null,
      "outputs": [
        {
          "output_type": "stream",
          "text": [
            "    Loan_ID Gender Married  ... Credit_History Property_Area Loan_Status\n",
            "0  LP001002   Male      No  ...            1.0         Urban           Y\n",
            "1  LP001003   Male     Yes  ...            1.0         Rural           N\n",
            "2  LP001005   Male     Yes  ...            1.0         Urban           Y\n",
            "3  LP001006   Male     Yes  ...            1.0         Urban           Y\n",
            "4  LP001008   Male      No  ...            1.0         Urban           Y\n",
            "\n",
            "[5 rows x 13 columns]\n"
          ],
          "name": "stdout"
        }
      ]
    },
    {
      "cell_type": "code",
      "metadata": {
        "colab": {
          "base_uri": "https://localhost:8080/"
        },
        "id": "-_1gqhN8usJJ",
        "outputId": "f6f692dc-bb71-4a9c-dde0-3b5b81773d79"
      },
      "source": [
        "print('\\n\\nColumn Names\\n\\n')\n",
        "print(data.columns)"
      ],
      "execution_count": null,
      "outputs": [
        {
          "output_type": "stream",
          "text": [
            "\n",
            "\n",
            "Column Names\n",
            "\n",
            "\n",
            "Index(['Loan_ID', 'Gender', 'Married', 'Dependents', 'Education',\n",
            "       'Self_Employed', 'ApplicantIncome', 'CoapplicantIncome', 'LoanAmount',\n",
            "       'Loan_Amount_Term', 'Credit_History', 'Property_Area', 'Loan_Status'],\n",
            "      dtype='object')\n"
          ],
          "name": "stdout"
        }
      ]
    },
    {
      "cell_type": "code",
      "metadata": {
        "id": "OiVps2Ccu15j"
      },
      "source": [
        "encode = LabelEncoder()\n",
        "data.Loan_Status = encode.fit_transform(data.Loan_Status)"
      ],
      "execution_count": null,
      "outputs": []
    },
    {
      "cell_type": "code",
      "metadata": {
        "id": "aefxBKpZvCg5"
      },
      "source": [
        "data.dropna(how='any', inplace=True)"
      ],
      "execution_count": null,
      "outputs": []
    },
    {
      "cell_type": "code",
      "metadata": {
        "id": "aViqx7vlvRzy"
      },
      "source": [
        "train, test = train_test_split(data, test_size=0.2, random_state=0)"
      ],
      "execution_count": null,
      "outputs": []
    },
    {
      "cell_type": "code",
      "metadata": {
        "id": "eRSt0nIIvcjz"
      },
      "source": [
        "train_x = train.drop(columns=['Loan_ID', 'Loan_Status'], axis=1)\n",
        "train_y = train['Loan_Status']"
      ],
      "execution_count": null,
      "outputs": []
    },
    {
      "cell_type": "code",
      "metadata": {
        "id": "3tBNsfHRwH-S"
      },
      "source": [
        "test_x = test.drop(columns=['Loan_ID', 'Loan_Status'], axis=1)\n",
        "test_y = test['Loan_Status']"
      ],
      "execution_count": null,
      "outputs": []
    },
    {
      "cell_type": "code",
      "metadata": {
        "id": "9CF33ZbUweO-"
      },
      "source": [
        "train_x = pd.get_dummies(train_x)\n",
        "test_x = pd.get_dummies(test_x)"
      ],
      "execution_count": null,
      "outputs": []
    },
    {
      "cell_type": "code",
      "metadata": {
        "colab": {
          "base_uri": "https://localhost:8080/"
        },
        "id": "6aVhwxQYxF64",
        "outputId": "e13dda1b-b91c-4ff3-f657-a5a6f2c68f4c"
      },
      "source": [
        "print('shape of training data: ', train_x.shape)\n",
        "print('shape of testing data: ', test_x.shape)"
      ],
      "execution_count": null,
      "outputs": [
        {
          "output_type": "stream",
          "text": [
            "shape of training data:  (384, 20)\n",
            "shape of testing data:  (96, 20)\n"
          ],
          "name": "stdout"
        }
      ]
    },
    {
      "cell_type": "code",
      "metadata": {
        "id": "nFy528odxUSN"
      },
      "source": [
        "model = LogisticRegression(max_iter=200)"
      ],
      "execution_count": null,
      "outputs": []
    },
    {
      "cell_type": "code",
      "metadata": {
        "colab": {
          "base_uri": "https://localhost:8080/"
        },
        "id": "9Mu9ueInxZ1L",
        "outputId": "a2288166-dc45-4c71-baad-3685214dc70b"
      },
      "source": [
        "model.fit(train_x, train_y)"
      ],
      "execution_count": null,
      "outputs": [
        {
          "output_type": "execute_result",
          "data": {
            "text/plain": [
              "LogisticRegression(C=1.0, class_weight=None, dual=False, fit_intercept=True,\n",
              "                   intercept_scaling=1, l1_ratio=None, max_iter=200,\n",
              "                   multi_class='auto', n_jobs=None, penalty='l2',\n",
              "                   random_state=None, solver='lbfgs', tol=0.0001, verbose=0,\n",
              "                   warm_start=False)"
            ]
          },
          "metadata": {
            "tags": []
          },
          "execution_count": 19
        }
      ]
    },
    {
      "cell_type": "code",
      "metadata": {
        "id": "0a3op1ZExhve"
      },
      "source": [
        "predict = model.predict(test_x)"
      ],
      "execution_count": null,
      "outputs": []
    },
    {
      "cell_type": "code",
      "metadata": {
        "colab": {
          "base_uri": "https://localhost:8080/"
        },
        "id": "uNovTXTdx3dN",
        "outputId": "6e95f86f-12a6-4d19-a9f1-71c1f9bdb3b2"
      },
      "source": [
        "print('Predicted values on test data', predict)"
      ],
      "execution_count": null,
      "outputs": [
        {
          "output_type": "stream",
          "text": [
            "Predicted values on test data [1 1 1 1 1 1 1 1 1 1 1 1 0 1 1 1 1 1 0 1 1 1 1 1 0 1 1 1 1 1 1 1 1 1 1 1 1\n",
            " 1 1 0 1 1 1 1 1 1 1 1 1 1 1 1 1 1 1 1 0 0 0 0 1 1 0 1 1 1 1 1 1 1 1 1 1 0\n",
            " 1 1 1 1 1 1 1 1 1 0 1 1 0 1 1 0 1 0 1 1 1 1]\n"
          ],
          "name": "stdout"
        }
      ]
    },
    {
      "cell_type": "code",
      "metadata": {
        "colab": {
          "base_uri": "https://localhost:8080/"
        },
        "id": "AWaBtHzmx9G1",
        "outputId": "32bf378c-f33b-4e67-92da-ad3cccc2f8ce"
      },
      "source": [
        "print('\\n\\nAccuracy Score on Test Data:\\n\\n')\n",
        "print(accuracy_score(test_y,predict))"
      ],
      "execution_count": null,
      "outputs": [
        {
          "output_type": "stream",
          "text": [
            "\n",
            "\n",
            "Accuracy Score on Test Data:\n",
            "\n",
            "\n",
            "0.7604166666666666\n"
          ],
          "name": "stdout"
        }
      ]
    }
  ]
}